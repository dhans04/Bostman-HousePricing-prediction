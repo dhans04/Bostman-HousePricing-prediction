{
  "nbformat": 4,
  "nbformat_minor": 0,
  "metadata": {
    "colab": {
      "provenance": []
    },
    "kernelspec": {
      "name": "python3",
      "display_name": "Python 3"
    },
    "language_info": {
      "name": "python"
    }
  },
  "cells": [
    {
      "cell_type": "code",
      "execution_count": 1,
      "metadata": {
        "id": "awcvwPH6LyvJ"
      },
      "outputs": [],
      "source": [
        "#import dependencies\n",
        "import pandas as pd\n",
        "import numpy as np\n",
        "from sklearn import linear_model\n",
        "from sklearn.model_selection import train_test_split"
      ]
    },
    {
      "cell_type": "code",
      "source": [
        "# Load the Boston Housing Data set from sklearn.datasets and print it\n",
        "#from sklearn.datasets import load_boston\n",
        "#boston=load_boston()\n",
        "#print(boston)\n",
        "from sklearn.datasets import fetch_openml\n",
        "\n",
        "boston = fetch_openml(data_id=42165, as_frame=True)\n",
        "print(boston.data)  # This contains the feature data\n",
        "print(boston.target)  # This contains the target variable (median house value)\n"
      ],
      "metadata": {
        "id": "xgHgfC_sMry8"
      },
      "execution_count": null,
      "outputs": []
    },
    {
      "cell_type": "code",
      "source": [
        "df_x = pd.DataFrame(boston.data,columns=boston.feature_names)\n",
        "df_y = pd.DataFrame(boston.target)"
      ],
      "metadata": {
        "id": "8dUkY7drOHuS"
      },
      "execution_count": 4,
      "outputs": []
    },
    {
      "cell_type": "code",
      "source": [
        "df_x.describe()"
      ],
      "metadata": {
        "id": "QG7i5VbcOgJN"
      },
      "execution_count": null,
      "outputs": []
    },
    {
      "cell_type": "code",
      "source": [
        "from sklearn.preprocessing import OneHotEncoder"
      ],
      "metadata": {
        "id": "4g26HBbTPeLh"
      },
      "execution_count": 16,
      "outputs": []
    },
    {
      "cell_type": "code",
      "source": [
        "encoder = OneHotEncoder()\n",
        "x_train_encoded = encoder.fit_transform(x_train)"
      ],
      "metadata": {
        "id": "2ZJ_00aDRgJX"
      },
      "execution_count": 17,
      "outputs": []
    },
    {
      "cell_type": "code",
      "source": [
        "x_train_encoded, x_test_encoded, y_train, y_test = train_test_split(x_train_encoded, y_train, test_size=0.2, random_state=42)"
      ],
      "metadata": {
        "id": "DfZ3ulGNO4hc"
      },
      "execution_count": 18,
      "outputs": []
    },
    {
      "cell_type": "code",
      "source": [
        "reg = linear_model.LinearRegression()\n",
        "reg.fit(x_train_encoded, y_train)"
      ],
      "metadata": {
        "id": "ETHsE7C9Op0a"
      },
      "execution_count": null,
      "outputs": []
    },
    {
      "cell_type": "code",
      "source": [
        "print(reg.coef_)"
      ],
      "metadata": {
        "id": "USbSA5_4R-Vd"
      },
      "execution_count": null,
      "outputs": []
    },
    {
      "cell_type": "code",
      "source": [
        "y_pred = reg.predict(x_test_encoded)\n",
        "print(y_pred)"
      ],
      "metadata": {
        "id": "xhkPwXuASiXB"
      },
      "execution_count": null,
      "outputs": []
    },
    {
      "cell_type": "code",
      "source": [
        "print(y_test)"
      ],
      "metadata": {
        "id": "aP6KIHb-TBRv"
      },
      "execution_count": null,
      "outputs": []
    },
    {
      "cell_type": "code",
      "source": [
        "print(np.mean((y_pred - y_test)**2))"
      ],
      "metadata": {
        "colab": {
          "base_uri": "https://localhost:8080/"
        },
        "id": "e3tBw89oTcMv",
        "outputId": "0718aa17-4234-4195-9b18-0b613e070a1d"
      },
      "execution_count": 28,
      "outputs": [
        {
          "output_type": "stream",
          "name": "stdout",
          "text": [
            "SalePrice    5.492008e+08\n",
            "dtype: float64\n"
          ]
        },
        {
          "output_type": "stream",
          "name": "stderr",
          "text": [
            "/usr/local/lib/python3.10/dist-packages/numpy/core/fromnumeric.py:3430: FutureWarning: In a future version, DataFrame.mean(axis=None) will return a scalar mean over the entire DataFrame. To retain the old behavior, use 'frame.mean(axis=0)' or just 'frame.mean()'\n",
            "  return mean(axis=axis, dtype=dtype, out=out, **kwargs)\n"
          ]
        }
      ]
    },
    {
      "cell_type": "code",
      "source": [
        "#, mean_squared_error\n",
        "from sklearn.metrics import mean_squared_error\n",
        "print(mean_squared_error(y_test, y_pred))"
      ],
      "metadata": {
        "colab": {
          "base_uri": "https://localhost:8080/"
        },
        "id": "yznRU0FaTxpG",
        "outputId": "0d66fa7d-4fa4-4489-c7a8-56c1e8e2f7ca"
      },
      "execution_count": 30,
      "outputs": [
        {
          "output_type": "stream",
          "name": "stdout",
          "text": [
            "549200766.1023957\n"
          ]
        }
      ]
    }
  ]
}